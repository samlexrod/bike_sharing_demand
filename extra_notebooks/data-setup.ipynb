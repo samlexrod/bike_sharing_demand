{
 "cells": [
  {
   "cell_type": "markdown",
   "metadata": {},
   "source": [
    "# Data Setup\n",
    "\n",
    "- Project: Bike Share Kaggle Competition \n",
    "- Nanodegree: Udaicty Machine Learning Engineering\n"
   ]
  },
  {
   "cell_type": "markdown",
   "metadata": {},
   "source": [
    "## Packages Used"
   ]
  },
  {
   "cell_type": "code",
   "execution_count": null,
   "metadata": {},
   "outputs": [],
   "source": [
    "import pandas as pd\n",
    "import json\n",
    "from dotenv import load_dotenv\n",
    "import os\n",
    "\n",
    "load_dotenv()"
   ]
  },
  {
   "cell_type": "markdown",
   "metadata": {},
   "source": [
    "## Kaggle Data Download\n",
    "\n",
    "- First move the kaggle.json file under the root directory of this repo.\n",
    "- Then run the following commands to set the environment variables."
   ]
  },
  {
   "cell_type": "markdown",
   "metadata": {},
   "source": [
    "### Settin up the API key"
   ]
  },
  {
   "cell_type": "code",
   "execution_count": null,
   "metadata": {},
   "outputs": [],
   "source": [
    "dir_name_path = os.path.dirname(os.getcwd())\n",
    "system_root_dir = os.getenv(\"ROOT_DIR\")\n",
    "kaggle_direrctory = os.path.join(system_root_dir, \".kaggle\")\n",
    "file_path = f\"{kaggle_direrctory}/kaggle.json\"\n",
    "\n",
    "if not os.path.exists(file_path):\n",
    "\n",
    "    # Create .kaggle directory\n",
    "    os.system(f\"mkdir -p {kaggle_direrctory}\")\n",
    "\n",
    "    # Move kaggle.json to .kaggle directory\n",
    "    os.system(f\"mv {dir_name_path}/kaggle.json {file_path}\")\n",
    "\n",
    "    # Change permission of kaggle.json\n",
    "    os.system(f\"chmod 600 {file_path}\")\n",
    "\n",
    "os.listdir(kaggle_direrctory)"
   ]
  },
  {
   "cell_type": "markdown",
   "metadata": {},
   "source": [
    "### Download dataset Using Kaggle CLI"
   ]
  },
  {
   "cell_type": "code",
   "execution_count": null,
   "metadata": {},
   "outputs": [],
   "source": [
    "# Download dataset from kaggle in the ./data directory\n",
    "os.system(\"kaggle competitions download -c bike-sharing-demand\")\n",
    "\n",
    "# Unzip the dataset\n",
    "os.system(\"unzip -o bike-sharing-demand.zip -d ../data\")\n",
    "\n",
    "# Delete the zip file\n",
    "os.system(\"rm bike-sharing-demand.zip\")"
   ]
  },
  {
   "cell_type": "markdown",
   "metadata": {},
   "source": [
    "# END OF NOTEBOOK"
   ]
  }
 ],
 "metadata": {
  "kernelspec": {
   "display_name": "bikeshare",
   "language": "python",
   "name": "python3"
  },
  "language_info": {
   "codemirror_mode": {
    "name": "ipython",
    "version": 3
   },
   "file_extension": ".py",
   "mimetype": "text/x-python",
   "name": "python",
   "nbconvert_exporter": "python",
   "pygments_lexer": "ipython3",
   "version": "3.11.8"
  }
 },
 "nbformat": 4,
 "nbformat_minor": 2
}
